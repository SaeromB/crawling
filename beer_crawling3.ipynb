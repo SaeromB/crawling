{
 "cells": [
  {
   "cell_type": "code",
   "execution_count": null,
   "metadata": {},
   "outputs": [],
   "source": [
    "#맥주이야기\n",
    "# https://cafe.naver.com/ArticleList.nhn?search.clubid=25932702&search.menuid=28&search.boardtype=L"
   ]
  },
  {
   "cell_type": "code",
   "execution_count": 28,
   "metadata": {},
   "outputs": [],
   "source": [
    "import os\n",
    "import requests\n",
    "import selenium\n",
    "\n",
    "from selenium import webdriver\n",
    "from selenium.webdriver.common.by import By\n",
    "import time\n",
    "\n",
    "from bs4 import BeautifulSoup \n",
    "import urllib\n",
    "import os\n",
    "import requests\n",
    "import selenium\n",
    "from selenium import webdriver\n",
    "from selenium.webdriver.common.by import By\n",
    "import time\n",
    "from selenium.webdriver.support import ui\n",
    "from selenium.webdriver.support import expected_conditions as EC\n",
    "from selenium.webdriver.common.by import By\n",
    "from selenium.webdriver.support.ui import WebDriverWait as wait\n",
    "from selenium.webdriver.common.keys import Keys"
   ]
  },
  {
   "cell_type": "code",
   "execution_count": 29,
   "metadata": {},
   "outputs": [],
   "source": [
    "from selenium import webdriver\n",
    "from bs4 import BeautifulSoup as bs\n",
    "import time\n",
    "import re\n",
    "import pandas as pd\n",
    "import sqlite3\n",
    "import datetime"
   ]
  },
  {
   "cell_type": "code",
   "execution_count": 30,
   "metadata": {},
   "outputs": [],
   "source": [
    "driver = webdriver.Chrome('C://dataitgirls/projects/docu/chromedriver.exe')\n",
    "time.sleep(5)"
   ]
  },
  {
   "cell_type": "code",
   "execution_count": 98,
   "metadata": {},
   "outputs": [],
   "source": [
    "# 샘플로 일단 클릭하는 것만 가지고 오자\n",
    "# 우선 드라이버를 가지고 와서 맥주 이야기에 들어가자\n",
    "# \n",
    "driver = webdriver.Chrome('C://dataitgirls/projects/docu/chromedriver.exe')\n",
    "base_url = 'https://cafe.naver.com/beer2013?iframe_url=/ArticleList.nhn%3Fsearch.clubid=25932702%26search.menuid=28%26search.boardtype=L'\n",
    "driver.get(base_url)\n",
    "# 우선 iframe 으로 프레임 전환\n",
    "driver.switch_to_frame('cafe_main')\n",
    "#우선여기까지 실행을 하면 프레임 전환까지 이루어진다\n",
    "#우선 게시글의 태그를 찾아 클릭을 한다 그럼 꺄 들어가짐... \n",
    "# 바보같이 위에 있는 버튼을 발견하지 못하고 밑에 있는 버튼만 누르기를 반복했다 \n",
    "# 위에 있는 다음글만 누르면 되는데.....바보바보바보...\n",
    "\n",
    "driver.find_element_by_css_selector('span.aaa > a').click()\n",
    "driver.find_element_by_css_selector('#main-area > div.list-btn-nor2.upper-list > div.fl > div:nth-child(2) > p > a').click()\n",
    "time.sleep(10)\n"
   ]
  },
  {
   "cell_type": "code",
   "execution_count": 99,
   "metadata": {},
   "outputs": [],
   "source": [
    "# 이제 for문을 통해 계속 반복하여 게시판에 있는 정보를 가지고 오자...\n",
    "# 일단 가지고 오려면 사이트를 밑으로 내려야함 \n",
    "body = driver.find_element_by_tag_name('body')\n",
    "\n",
    "num_of_pagedowns = 50\n",
    "while num_of_pagedowns:\n",
    "    body.send_keys(Keys.PAGE_DOWN)\n",
    "    time.sleep(2)\n",
    "    num_of_pagedowns -= 1\n",
    "    try:\n",
    "        driver.find_element_by_css_selelctor('div > table > tbody > tr > td > span.b.m-tcol-c')\n",
    "    except:\n",
    "        None\n",
    "        \n",
    "html = driver.page_source\n",
    "soup = BeautifulSoup(html, 'lxml')\n",
    "\n",
    "title = soup.find_all('div', 'tbody m-tcol-c')\n"
   ]
  },
  {
   "cell_type": "code",
   "execution_count": 100,
   "metadata": {},
   "outputs": [
    {
     "name": "stdout",
     "output_type": "stream",
     "text": [
      "[]\n"
     ]
    }
   ],
   "source": [
    "print(title)"
   ]
  },
  {
   "cell_type": "code",
   "execution_count": 101,
   "metadata": {},
   "outputs": [],
   "source": [
    "def beer_info(n):\n",
    "    a = []\n",
    "    for i in n:\n",
    "        a.append(i.get_text())\n",
    "        return a"
   ]
  },
  {
   "cell_type": "code",
   "execution_count": 102,
   "metadata": {},
   "outputs": [],
   "source": [
    "from bs4 import BeautifulSoup\n",
    "\n",
    "html = driver.page_source\n",
    "soup = BeautifulSoup(html, 'html.parser')"
   ]
  },
  {
   "cell_type": "code",
   "execution_count": 104,
   "metadata": {},
   "outputs": [],
   "source": [
    "list_all = soup.find_all('span', 'tbody m-tcol-c')"
   ]
  },
  {
   "cell_type": "code",
   "execution_count": 105,
   "metadata": {},
   "outputs": [
    {
     "data": {
      "text/plain": [
       "0"
      ]
     },
     "execution_count": 105,
     "metadata": {},
     "output_type": "execute_result"
    }
   ],
   "source": [
    "titles = beer_info(title)\n",
    "len(title)"
   ]
  },
  {
   "cell_type": "code",
   "execution_count": 15,
   "metadata": {},
   "outputs": [
    {
     "ename": "NameError",
     "evalue": "name 'browser' is not defined",
     "output_type": "error",
     "traceback": [
      "\u001b[1;31m---------------------------------------------------------------------------\u001b[0m",
      "\u001b[1;31mNameError\u001b[0m                                 Traceback (most recent call last)",
      "\u001b[1;32m<ipython-input-15-81cef4d21170>\u001b[0m in \u001b[0;36m<module>\u001b[1;34m()\u001b[0m\n\u001b[0;32m     21\u001b[0m \u001b[1;32mfor\u001b[0m \u001b[0mpage_num\u001b[0m \u001b[1;32min\u001b[0m \u001b[0mrange\u001b[0m\u001b[1;33m(\u001b[0m\u001b[1;36m1\u001b[0m\u001b[1;33m,\u001b[0m\u001b[1;36m50\u001b[0m\u001b[1;33m)\u001b[0m\u001b[1;33m:\u001b[0m\u001b[1;33m\u001b[0m\u001b[0m\n\u001b[0;32m     22\u001b[0m     \u001b[0mtitle_list\u001b[0m \u001b[1;33m=\u001b[0m \u001b[0mdriver\u001b[0m\u001b[1;33m.\u001b[0m\u001b[0mfind_elements_by_css_selector\u001b[0m\u001b[1;33m(\u001b[0m\u001b[1;34m'div > table > tbody > tr > td > span.b.m-tcol-c'\u001b[0m\u001b[1;33m)\u001b[0m\u001b[1;33m\u001b[0m\u001b[0m\n\u001b[1;32m---> 23\u001b[1;33m     \u001b[0msample\u001b[0m \u001b[1;33m=\u001b[0m \u001b[0mbrowser\u001b[0m\u001b[1;33m.\u001b[0m\u001b[0mfind_element_by_css_select\u001b[0m\u001b[1;33m(\u001b[0m\u001b[1;34m'a'\u001b[0m\u001b[1;33m)\u001b[0m\u001b[1;33m\u001b[0m\u001b[0m\n\u001b[0m\u001b[0;32m     24\u001b[0m     \u001b[0msample\u001b[0m \u001b[1;33m=\u001b[0m \u001b[0msample\u001b[0m\u001b[1;33m.\u001b[0m\u001b[0msend_keys\u001b[0m\u001b[1;33m(\u001b[0m\u001b[1;34m'\\n'\u001b[0m\u001b[1;33m)\u001b[0m\u001b[1;33m\u001b[0m\u001b[0m\n\u001b[0;32m     25\u001b[0m     \u001b[0mdriver\u001b[0m\u001b[1;33m.\u001b[0m\u001b[0mfind_element_by_css_selector\u001b[0m\u001b[1;33m(\u001b[0m\u001b[1;34m'span.aaa > a'\u001b[0m\u001b[1;33m)\u001b[0m\u001b[1;33m.\u001b[0m\u001b[0mclick\u001b[0m\u001b[1;33m(\u001b[0m\u001b[1;33m)\u001b[0m\u001b[1;33m\u001b[0m\u001b[0m\n",
      "\u001b[1;31mNameError\u001b[0m: name 'browser' is not defined"
     ]
    }
   ],
   "source": [
    "# driver.switch_to_frame('cafe_main')\n",
    "# page_source = driver.page_source\n",
    "# print(page_source)\n",
    "# driver.close()\n",
    "#어떻게 한건지는 모르겠지만 일단 첫번째 게시글 클릭했음 하지만 게시글 정보를 가지고 온것 같지는 않음\n",
    "# 앞에 있는 게시글에 제목만 가지고 오는 것 같음\n",
    "# 하지만 돌려보면 게시글은 가지고 오는 이유는 뭐지?\n",
    "driver = webdriver.Chrome('C://dataitgirls/projects/docu/chromedriver.exe')\n",
    "base_url = 'https://cafe.naver.com/beer2013?iframe_url=/ArticleList.nhn%3Fsearch.clubid=25932702%26search.menuid=28%26search.boardtype=L'\n",
    "test_list = []\n",
    " \n",
    "driver.get(base_url)\n",
    "# iframe으로 프레임 전환\n",
    "driver.switch_to_frame('cafe_main')\n",
    "# 프레임 전환\n",
    "# driver.switch_to_frame(driver.find_element_by_css_selector('span.aaa > a.m-tcol-c'))\n",
    "# driver.find_element_by_css_selector('span.aaa > a').click()\n",
    "# driver.switch_to_default_content()\n",
    "#이렇게 하면 밑에 있는 다음글까지 안감....\n",
    "# WebDriverWait(driver, 10).until(EC.(chrome.find_element_by_css_selector('span.aaa > a').click()))\n",
    "\n",
    "driver.find_element_by_css_selector('span.aaa > a').click()\n",
    "\n",
    "\n",
    "for page_num in range(1,50):\n",
    "    title_list = driver.find_elements_by_css_selector('div > table > tbody > tr > td > span.b.m-tcol-c')\n",
    "    sample = browser.find_element_by_css_select('a')\n",
    "    sample = sample.send_keys('\\n')\n",
    "    driver.find_element_by_css_selector('span.aaa > a').click()\n",
    "    time.sleep(3)\n",
    "    \n",
    "# 게시글의 제목가지고오기\n",
    "# 로딩 시간이 있으므로 타이밍 맞추기 위해 sleep(3)   \n",
    "# # href 속성을 찾아 url을 리스트로 저장한다.\n",
    "# article_list = driver.find_elements_by_css_selector('li.board_box a.txt_area')\n",
    "# article_urls = [ i.get_attribute('href') for i in article_list ]\n",
    " \n",
    "# for link in article_urls:\n",
    "#     test_list.append(link)\n",
    "\n",
    "# page_source = driver.page_source\n",
    "# print(page_source)"
   ]
  }
 ],
 "metadata": {
  "kernelspec": {
   "display_name": "Python 3",
   "language": "python",
   "name": "python3"
  },
  "language_info": {
   "codemirror_mode": {
    "name": "ipython",
    "version": 3
   },
   "file_extension": ".py",
   "mimetype": "text/x-python",
   "name": "python",
   "nbconvert_exporter": "python",
   "pygments_lexer": "ipython3",
   "version": "3.6.5"
  }
 },
 "nbformat": 4,
 "nbformat_minor": 2
}
